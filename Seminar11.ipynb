{
  "nbformat": 4,
  "nbformat_minor": 0,
  "metadata": {
    "colab": {
      "provenance": [],
      "collapsed_sections": [],
      "include_colab_link": true
    },
    "kernelspec": {
      "name": "python3",
      "display_name": "Python 3"
    },
    "language_info": {
      "name": "python"
    }
  },
  "cells": [
    {
      "cell_type": "markdown",
      "metadata": {
        "id": "view-in-github",
        "colab_type": "text"
      },
      "source": [
        "<a href=\"https://colab.research.google.com/github/Tiger-A/Python/blob/main/Seminar11.ipynb\" target=\"_parent\"><img src=\"https://colab.research.google.com/assets/colab-badge.svg\" alt=\"Open In Colab\"/></a>"
      ]
    },
    {
      "cell_type": "code",
      "execution_count": null,
      "metadata": {
        "id": "AQInCXWv4hRE"
      },
      "outputs": [],
      "source": [
        "from sympy import *\n",
        "from sympy.plotting import plot\n",
        "from sympy.solvers.inequalities import solve_univariate_inequality"
      ]
    },
    {
      "cell_type": "code",
      "source": [
        "x = Symbol('x')\n",
        "y = Symbol('y')"
      ],
      "metadata": {
        "id": "CGS76NxE4mE1"
      },
      "execution_count": null,
      "outputs": []
    },
    {
      "cell_type": "code",
      "source": [
        "f13 = 5*x**2 + 10*x -30\n",
        "f13"
      ],
      "metadata": {
        "colab": {
          "base_uri": "https://localhost:8080/",
          "height": 39
        },
        "id": "97g7cily4s2C",
        "outputId": "18039442-e122-4450-d571-7ae8650a88fd"
      },
      "execution_count": null,
      "outputs": [
        {
          "output_type": "execute_result",
          "data": {
            "text/plain": [
              "5*x**2 + 10*x - 30"
            ],
            "text/latex": "$\\displaystyle 5 x^{2} + 10 x - 30$"
          },
          "metadata": {},
          "execution_count": 307
        }
      ]
    },
    {
      "cell_type": "markdown",
      "source": [],
      "metadata": {
        "id": "dOQQVj00_P6G"
      }
    },
    {
      "cell_type": "code",
      "source": [
        "#4. Построить график\n",
        "plot(f13)"
      ],
      "metadata": {
        "colab": {
          "base_uri": "https://localhost:8080/",
          "height": 311
        },
        "id": "dtuGsXku4wKt",
        "outputId": "d0908aa3-988d-4f4d-9a85-1c4aac71a6cc"
      },
      "execution_count": null,
      "outputs": [
        {
          "output_type": "display_data",
          "data": {
            "text/plain": [
              "<Figure size 432x288 with 1 Axes>"
            ],
            "image/png": "[encoded data removed]"
          },
          "metadata": {
            "needs_background": "light"
          }
        },
        {
          "output_type": "execute_result",
          "data": {
            "text/plain": [
              "<sympy.plotting.plot.Plot at 0x7fd261769390>"
            ]
          },
          "metadata": {},
          "execution_count": 308
        }
      ]
    },
    {
      "cell_type": "code",
      "source": [
        "# Вычислили производную первого порядка исходной функции\n",
        "diff(f13)"
      ],
      "metadata": {
        "colab": {
          "base_uri": "https://localhost:8080/",
          "height": 39
        },
        "id": "3nzbwTPp5npe",
        "outputId": "650dfabf-4b7d-4db0-878f-e706c2caf941"
      },
      "execution_count": null,
      "outputs": [
        {
          "output_type": "execute_result",
          "data": {
            "text/plain": [
              "10*x + 10"
            ],
            "text/latex": "$\\displaystyle 10 x + 10$"
          },
          "metadata": {},
          "execution_count": 309
        }
      ]
    },
    {
      "cell_type": "code",
      "source": [
        "f14 = 10 * x + 10\n",
        "f14"
      ],
      "metadata": {
        "colab": {
          "base_uri": "https://localhost:8080/",
          "height": 39
        },
        "id": "VG8QnKiF4zPv",
        "outputId": "45e60444-07e6-4f52-e8eb-e751684a6576"
      },
      "execution_count": null,
      "outputs": [
        {
          "output_type": "execute_result",
          "data": {
            "text/plain": [
              "10*x + 10"
            ],
            "text/latex": "$\\displaystyle 10 x + 10$"
          },
          "metadata": {},
          "execution_count": 310
        }
      ]
    },
    {
      "cell_type": "code",
      "source": [
        "# 5. Вычислить вершину\n",
        "extremum = solve(f14)\n",
        "extremum "
      ],
      "metadata": {
        "colab": {
          "base_uri": "https://localhost:8080/"
        },
        "id": "9R5T1UZF41tZ",
        "outputId": "c21535e9-5608-469e-8622-caecd0e5cef1"
      },
      "execution_count": null,
      "outputs": [
        {
          "output_type": "execute_result",
          "data": {
            "text/plain": [
              "[-1]"
            ]
          },
          "metadata": {},
          "execution_count": 311
        }
      ]
    },
    {
      "cell_type": "code",
      "source": [
        "#3. Найти интервалы, на которых функция убывает\n",
        "plot(f14,(x,-2,1))"
      ],
      "metadata": {
        "colab": {
          "base_uri": "https://localhost:8080/",
          "height": 314
        },
        "id": "zni_5A7F445-",
        "outputId": "e99b4be2-91a8-44ef-8329-b90a2191be08"
      },
      "execution_count": null,
      "outputs": [
        {
          "output_type": "display_data",
          "data": {
            "text/plain": [
              "<Figure size 432x288 with 1 Axes>"
            ],
            "image/png": "[encoded data removed]"
          },
          "metadata": {
            "needs_background": "light"
          }
        },
        {
          "output_type": "execute_result",
          "data": {
            "text/plain": [
              "<sympy.plotting.plot.Plot at 0x7fd261506f10>"
            ]
          },
          "metadata": {},
          "execution_count": 356
        }
      ]
    },
    {
      "cell_type": "code",
      "source": [
        "#3. Найти интервалы, на которых функция убывает\n",
        "fun1 = plot(f14,(x,-2,1), show=False)\n",
        "fun1.show()\n"
      ],
      "metadata": {
        "colab": {
          "base_uri": "https://localhost:8080/",
          "height": 297
        },
        "id": "S21ue2ozDIcW",
        "outputId": "e55d1d34-b443-4fd3-9f55-ded632d649e9"
      },
      "execution_count": null,
      "outputs": [
        {
          "output_type": "display_data",
          "data": {
            "text/plain": [
              "<Figure size 432x288 with 1 Axes>"
            ],
            "image/png": "[encoded data removed]"
          },
          "metadata": {
            "needs_background": "light"
          }
        }
      ]
    },
    {
      "cell_type": "code",
      "source": [
        "print(f'Функция убывает от -∞  до {extremum } и Функция возрастает с {extremum } до +∞')"
      ],
      "metadata": {
        "colab": {
          "base_uri": "https://localhost:8080/"
        },
        "id": "m1kD_6SGBLA5",
        "outputId": "ced84755-b26c-4527-974a-8f5f55a522d4"
      },
      "execution_count": null,
      "outputs": [
        {
          "output_type": "stream",
          "name": "stdout",
          "text": [
            "Функция убывает от -∞  до [-1] и Функция возрастает с [-1] до +∞\n"
          ]
        }
      ]
    },
    {
      "cell_type": "code",
      "source": [
        "#1. Определить корни:\n",
        "x1, x2 = solve(f13)\n"
      ],
      "metadata": {
        "id": "ZnVbl67X6EIB"
      },
      "execution_count": null,
      "outputs": []
    },
    {
      "cell_type": "code",
      "source": [
        "print('Первый корень  = ', x1.evalf())"
      ],
      "metadata": {
        "colab": {
          "base_uri": "https://localhost:8080/"
        },
        "id": "asnnoMNf6ayI",
        "outputId": "3eb70890-c277-4a2a-aa35-57db83897cd8"
      },
      "execution_count": null,
      "outputs": [
        {
          "output_type": "stream",
          "name": "stdout",
          "text": [
            "Первый корень  =  1.64575131106459\n"
          ]
        }
      ]
    },
    {
      "cell_type": "code",
      "source": [
        "print('Второй корень  = ', x2.evalf())"
      ],
      "metadata": {
        "colab": {
          "base_uri": "https://localhost:8080/"
        },
        "id": "-xTK7_SM708y",
        "outputId": "e3d288ba-93ac-4720-a781-f430db4106e6"
      },
      "execution_count": null,
      "outputs": [
        {
          "output_type": "stream",
          "name": "stdout",
          "text": [
            "Второй корень  =  -3.64575131106459\n"
          ]
        }
      ]
    },
    {
      "cell_type": "code",
      "source": [
        "print(f'Функция {f13} больше нуля от -00 до {round(x2.evalf(),2)} и от {round(x1.evalf(),2)} до +00')\n",
        "print(f'Функция {f13} меньше нуля от {round(x2.evalf(),2)} и до {round(x1.evalf(),2)}')"
      ],
      "metadata": {
        "colab": {
          "base_uri": "https://localhost:8080/"
        },
        "id": "0rrvL5fS-FgM",
        "outputId": "73c48abb-1d90-461d-c4a4-9a99422548d1"
      },
      "execution_count": null,
      "outputs": [
        {
          "output_type": "stream",
          "name": "stdout",
          "text": [
            "Функция 5*x**2 + 10*x - 30 больше нуля от -00 до -3.65 и от 1.65 до +00\n",
            "Функция 5*x**2 + 10*x - 30 меньше нуля от -3.65 и до 1.65\n"
          ]
        }
      ]
    },
    {
      "cell_type": "code",
      "source": [
        "#f15 = -12*x**4*sin(cos(x)) - 18*x**3+5*x**2 + 10*x - 30\n",
        "#f15 = -2*x**4 + 18*x**3+5*x**2 + 10*x + 150\n",
        "f15 = -5*x**2 + 10*x - 150\n",
        "#f15 = 0.1*x**4 - 10*x**2 - 90\n",
        "f15\n"
      ],
      "metadata": {
        "colab": {
          "base_uri": "https://localhost:8080/",
          "height": 39
        },
        "id": "wt3136SGFiBl",
        "outputId": "01111943-a9ca-4e5e-88cd-94d8c84f1add"
      },
      "execution_count": null,
      "outputs": [
        {
          "output_type": "execute_result",
          "data": {
            "text/plain": [
              "-5*x**2 + 10*x - 150"
            ],
            "text/latex": "$\\displaystyle - 5 x^{2} + 10 x - 150$"
          },
          "metadata": {},
          "execution_count": 349
        }
      ]
    },
    {
      "cell_type": "code",
      "source": [
        "#fun2 = plot(f15,(x,-30,200), show=False)\n",
        "fun2 = plot(f15,(x,-11,12), show=False)\n",
        "fun2.show()"
      ],
      "metadata": {
        "colab": {
          "base_uri": "https://localhost:8080/",
          "height": 297
        },
        "id": "84cu4_oqFylg",
        "outputId": "a9bb33e8-bb82-47d6-b78c-ee9b5f24549a"
      },
      "execution_count": null,
      "outputs": [
        {
          "output_type": "display_data",
          "data": {
            "text/plain": [
              "<Figure size 432x288 with 1 Axes>"
            ],
            "image/png": "[encoded data removed]"
          },
          "metadata": {
            "needs_background": "light"
          }
        }
      ]
    },
    {
      "cell_type": "code",
      "source": [
        "f16 = diff(f15)"
      ],
      "metadata": {
        "id": "nPIQ1iqiGCGu"
      },
      "execution_count": null,
      "outputs": []
    },
    {
      "cell_type": "code",
      "source": [
        "fun3 = plot(f16, (x,-1.2,0.8), show=False)\n",
        "fun3.show()"
      ],
      "metadata": {
        "colab": {
          "base_uri": "https://localhost:8080/",
          "height": 296
        },
        "id": "-2UAH-mPGbTu",
        "outputId": "e3d39de9-6168-4eea-bab9-befc3b4979c3"
      },
      "execution_count": null,
      "outputs": [
        {
          "output_type": "display_data",
          "data": {
            "text/plain": [
              "<Figure size 432x288 with 1 Axes>"
            ],
            "image/png": "[encoded data removed]"
          },
          "metadata": {
            "needs_background": "light"
          }
        }
      ]
    },
    {
      "cell_type": "code",
      "source": [
        "solve(f15)"
      ],
      "metadata": {
        "colab": {
          "base_uri": "https://localhost:8080/"
        },
        "id": "A1sBECHiHlyM",
        "outputId": "48d3a62f-09a5-40df-d31a-c261dd1dfd57"
      },
      "execution_count": null,
      "outputs": [
        {
          "output_type": "execute_result",
          "data": {
            "text/plain": [
              "[-1 + sqrt(31), -sqrt(31) - 1]"
            ]
          },
          "metadata": {},
          "execution_count": 326
        }
      ]
    },
    {
      "cell_type": "code",
      "source": [
        "f17 = tan(x-(pi/2))\n",
        "#f17 = cot(x-(pi/2))"
      ],
      "metadata": {
        "id": "9ENba8m2RU49"
      },
      "execution_count": null,
      "outputs": []
    },
    {
      "cell_type": "code",
      "source": [
        "fun2 = plot(f17,(x,0.05,3.1), show=False)\n",
        "fun2.show()"
      ],
      "metadata": {
        "colab": {
          "base_uri": "https://localhost:8080/",
          "height": 297
        },
        "id": "63UDAQz6RqEn",
        "outputId": "57aec599-0987-4c2b-971f-7048673a0ce0"
      },
      "execution_count": null,
      "outputs": [
        {
          "output_type": "display_data",
          "data": {
            "text/plain": [
              "<Figure size 432x288 with 1 Axes>"
            ],
            "image/png": "[encoded data removed]"
          },
          "metadata": {
            "needs_background": "light"
          }
        }
      ]
    },
    {
      "cell_type": "code",
      "source": [
        "plot()"
      ],
      "metadata": {
        "id": "GeMQx_MlWyyC"
      },
      "execution_count": null,
      "outputs": []
    }
  ]
}